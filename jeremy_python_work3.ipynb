{
 "cells": [
  {
   "cell_type": "code",
   "execution_count": 11,
   "id": "ea9b93e3",
   "metadata": {},
   "outputs": [
    {
     "name": "stdout",
     "output_type": "stream",
     "text": [
      "[*********************100%***********************]  3 of 3 completed\n"
     ]
    }
   ],
   "source": [
    "import pygsheets\n",
    "import yfinance as yf\n",
    "import matplotlib.pyplot as plt\n",
    "import matplotlib.dates as mdates\n",
    "import pandas as pd\n",
    "import mpl_finance as mplf\n",
    "from mpl_finance import candlestick_ohlc\n",
    "import datetime\n",
    "\n",
    "df = yf.Tickers(\"BTU XLE DIA\")\n",
    "df2 = df.history(period = \"1y\")\n",
    "df3 = df2['Close']\n",
    "\n",
    "#sheets authorization\n",
    "ga = pygsheets.authorize(service_file ='/Users/Steveston/Desktop/python_work/google/pythonwork-342606-df5b867d0e82.json')\n",
    "sh = ga.open('python_work')\n",
    "wks = sh[0]\n",
    "wks.set_dataframe(df2[\"Close\"], (1, 1))\n",
    "\n"
   ]
  }
 ],
 "metadata": {
  "kernelspec": {
   "display_name": "Python 3 (ipykernel)",
   "language": "python",
   "name": "python3"
  },
  "language_info": {
   "codemirror_mode": {
    "name": "ipython",
    "version": 3
   },
   "file_extension": ".py",
   "mimetype": "text/x-python",
   "name": "python",
   "nbconvert_exporter": "python",
   "pygments_lexer": "ipython3",
   "version": "3.9.7"
  }
 },
 "nbformat": 4,
 "nbformat_minor": 5
}
